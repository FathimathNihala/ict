{
 "cells": [
  {
   "cell_type": "code",
   "execution_count": 1,
   "metadata": {},
   "outputs": [
    {
     "name": "stdout",
     "output_type": "stream",
     "text": [
      "enter radius6\n",
      "113.03999999999999\n"
     ]
    }
   ],
   "source": [
    "r=int(input(\"enter radius\"))\n",
    "area=3.14*r*r\n",
    "print(area)"
   ]
  },
  {
   "cell_type": "code",
   "execution_count": 2,
   "metadata": {},
   "outputs": [
    {
     "name": "stdout",
     "output_type": "stream",
     "text": [
      "Enter the name: nihala\n",
      "Enter your roll number: 10\n",
      "Enter the mark: 99\n",
      "Name: nihala\n",
      "Roll No: 10\n",
      "Mark: 99\n"
     ]
    }
   ],
   "source": [
    "name = input(\"Enter the name: \")\n",
    "roll_number = input(\"Enter your roll number: \")\n",
    "mark = input(\"Enter the mark: \")\n",
    "print(\"Name:\", name)\n",
    "print(\"Roll No:\", roll_number)\n",
    "print(\"Mark:\", mark)"
   ]
  },
  {
   "cell_type": "code",
   "execution_count": 3,
   "metadata": {},
   "outputs": [
    {
     "name": "stdout",
     "output_type": "stream",
     "text": [
      "the largest number is: 9\n"
     ]
    }
   ],
   "source": [
    "numbers=[3,7,1,9,4,6,8,2,5]\n",
    "largest_number=max(numbers)\n",
    "print(\"the largest number is:\",largest_number)"
   ]
  },
  {
   "cell_type": "code",
   "execution_count": 4,
   "metadata": {},
   "outputs": [
    {
     "name": "stdout",
     "output_type": "stream",
     "text": [
      "Current Number: 1, Previous Number: 0, Sum: 1\n",
      "Current Number: 2, Previous Number: 1, Sum: 3\n",
      "Current Number: 3, Previous Number: 2, Sum: 5\n",
      "Current Number: 4, Previous Number: 3, Sum: 7\n",
      "Current Number: 5, Previous Number: 4, Sum: 9\n",
      "Current Number: 6, Previous Number: 5, Sum: 11\n",
      "Current Number: 7, Previous Number: 6, Sum: 13\n",
      "Current Number: 8, Previous Number: 7, Sum: 15\n",
      "Current Number: 9, Previous Number: 8, Sum: 17\n",
      "Current Number: 10, Previous Number: 9, Sum: 19\n"
     ]
    }
   ],
   "source": [
    "for current_number in range(1, 11):\n",
    "    previous_number = current_number - 1\n",
    "    sum = current_number + previous_number\n",
    "    print(\"Current Number: \" + str(current_number) + \", Previous Number: \" + str(previous_number) + \", Sum: \" + str(sum))"
   ]
  },
  {
   "cell_type": "code",
   "execution_count": 5,
   "metadata": {},
   "outputs": [
    {
     "name": "stdout",
     "output_type": "stream",
     "text": [
      "[10, 20, 55]\n"
     ]
    }
   ],
   "source": [
    "numbers = [10, 20, 33, 46, 55]\n",
    "result = []\n",
    "for num in numbers:\n",
    "    if num % 5 == 0:\n",
    "        result.append(num)\n",
    "print(result)"
   ]
  },
  {
   "cell_type": "code",
   "execution_count": 6,
   "metadata": {},
   "outputs": [
    {
     "name": "stdout",
     "output_type": "stream",
     "text": [
      "3 is a prime number\n"
     ]
    }
   ],
   "source": [
    "n = 3\n",
    "if n > 1:\n",
    "    for i in range(2, int(n/2)+1):\n",
    "        if (n % i) == 0:\n",
    "            print(num, \"is not a prime number\")\n",
    "        break\n",
    "    else:\n",
    "        print(n, \"is a prime number\")\n",
    "else:\n",
    "    print(n, \"is not a prime number\")"
   ]
  },
  {
   "cell_type": "code",
   "execution_count": 7,
   "metadata": {},
   "outputs": [
    {
     "name": "stdout",
     "output_type": "stream",
     "text": [
      "Original List: [10, 40, 30, 70]\n",
      "Reversed List: [70, 30, 40, 10]\n"
     ]
    }
   ],
   "source": [
    "original_list = [10, 40, 30, 70]\n",
    "reversed_list = []\n",
    "for i in range(len(original_list) - 1, -1, -1):\n",
    "    reversed_list.append(original_list[i])\n",
    "print(\"Original List:\", original_list)\n",
    "print(\"Reversed List:\", reversed_list)"
   ]
  },
  {
   "cell_type": "code",
   "execution_count": 9,
   "metadata": {},
   "outputs": [
    {
     "name": "stdout",
     "output_type": "stream",
     "text": [
      "*\n",
      "**\n",
      "***\n",
      "****\n"
     ]
    }
   ],
   "source": [
    "for i in range(1,5):\n",
    "    print('*'*i)"
   ]
  },
  {
   "cell_type": "code",
   "execution_count": 11,
   "metadata": {},
   "outputs": [
    {
     "name": "stdout",
     "output_type": "stream",
     "text": [
      "Enter the first number: 34\n",
      "Enter the second number: 7\n",
      "Enter the third number: 12\n",
      "The maximum number is:  34\n"
     ]
    }
   ],
   "source": [
    "num1 = int(input(\"Enter the first number: \"))\n",
    "num2 = int(input(\"Enter the second number: \"))\n",
    "num3 = int(input(\"Enter the third number: \"))\n",
    "maximum=max(num1,num2,num3)\n",
    "\n",
    "\n",
    "print(\"The maximum number is: \",maximum)"
   ]
  },
  {
   "cell_type": "code",
   "execution_count": 12,
   "metadata": {},
   "outputs": [
    {
     "name": "stdout",
     "output_type": "stream",
     "text": [
      "*\n",
      "**\n",
      "***\n",
      "****\n",
      "*****\n",
      "****\n",
      "***\n",
      "**\n",
      "*\n"
     ]
    }
   ],
   "source": [
    "for i in range(1, 6):\n",
    "    print('*' * i)\n",
    "\n",
    "for j in range(4, 0, -1):\n",
    "    print('*' * j)"
   ]
  },
  {
   "cell_type": "code",
   "execution_count": null,
   "metadata": {},
   "outputs": [],
   "source": [
    ""
   ]
  }
 ],
 "metadata": {
  "kernelspec": {
   "display_name": "Python 3 (ipykernel)",
   "language": "python",
   "name": "python3"
  },
  "language_info": {
   "codemirror_mode": {
    "name": "ipython",
    "version": 3.0
   },
   "file_extension": ".py",
   "mimetype": "text/x-python",
   "name": "python",
   "nbconvert_exporter": "python",
   "pygments_lexer": "ipython3",
   "version": "3.11.5"
  }
 },
 "nbformat": 4,
 "nbformat_minor": 0
}